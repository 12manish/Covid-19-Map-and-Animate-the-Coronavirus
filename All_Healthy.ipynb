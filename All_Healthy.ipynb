{
  "nbformat": 4,
  "nbformat_minor": 0,
  "metadata": {
    "colab": {
      "name": "All Healthy.ipynb",
      "provenance": [],
      "private_outputs": true
    },
    "kernelspec": {
      "name": "python3",
      "display_name": "Python 3"
    }
  },
  "cells": [
    {
      "cell_type": "markdown",
      "metadata": {
        "id": "Blz9jFUbE3GD",
        "colab_type": "text"
      },
      "source": [
        "## COVID-19: Track, Map, and Animate the Coronavirus with Python & Basemap\n"
      ]
    },
    {
      "cell_type": "markdown",
      "metadata": {
        "id": "qLNbUB1lFDfv",
        "colab_type": "text"
      },
      "source": [
        "### Introduction\n",
        "Animate the progress. This is a great way to get involved and keep an eye on this developing story.\n"
      ]
    },
    {
      "cell_type": "code",
      "metadata": {
        "id": "lAu_t03vE4YB",
        "colab_type": "code",
        "colab": {}
      },
      "source": [
        "pip install kaggle"
      ],
      "execution_count": 0,
      "outputs": []
    },
    {
      "cell_type": "code",
      "metadata": {
        "id": "oLdQyMRNDh8K",
        "colab_type": "code",
        "colab": {}
      },
      "source": [
        "!kaggle config set -n path -v{/content}"
      ],
      "execution_count": 0,
      "outputs": []
    },
    {
      "cell_type": "code",
      "metadata": {
        "id": "ct4Au8vZDiAR",
        "colab_type": "code",
        "colab": {}
      },
      "source": [
        "!echo '{\"username\":\"shukla84manish\",\"key\":\"23a7cf2ddcb61c73c5dd0f87441582e3\"}' > /root/.kaggle/kaggle.json"
      ],
      "execution_count": 0,
      "outputs": []
    },
    {
      "cell_type": "code",
      "metadata": {
        "id": "uGUVNqGADiDg",
        "colab_type": "code",
        "colab": {}
      },
      "source": [
        "!kaggle datasets download -d sudalairajkumar/novel-corona-virus-2019-dataset"
      ],
      "execution_count": 0,
      "outputs": []
    },
    {
      "cell_type": "code",
      "metadata": {
        "id": "KcA65nNzDiHD",
        "colab_type": "code",
        "colab": {}
      },
      "source": [
        "!unzip \\*.zip"
      ],
      "execution_count": 0,
      "outputs": []
    },
    {
      "cell_type": "code",
      "metadata": {
        "id": "jV0wceqiFV6-",
        "colab_type": "code",
        "colab": {}
      },
      "source": [
        "!pip install Basemap"
      ],
      "execution_count": 0,
      "outputs": []
    },
    {
      "cell_type": "code",
      "metadata": {
        "id": "719UfdiqDiKI",
        "colab_type": "code",
        "colab": {}
      },
      "source": [
        "import matplotlib\n",
        "import matplotlib.pyplot as plt\n",
        "import pandas as pd\n",
        "import numpy as np\n",
        "import datetime, time, requests\n",
        "from time import sleep\n",
        "from mpl_toolkits.basemap import Basemap"
      ],
      "execution_count": 0,
      "outputs": []
    },
    {
      "cell_type": "code",
      "metadata": {
        "id": "kiPZwwj3Fswt",
        "colab_type": "code",
        "colab": {}
      },
      "source": [
        "from mpl_toolkits.basemap import Basemap"
      ],
      "execution_count": 0,
      "outputs": []
    },
    {
      "cell_type": "code",
      "metadata": {
        "id": "NBNaqUXhMCT3",
        "colab_type": "code",
        "colab": {}
      },
      "source": [
        "!apt-get install libgeos-3.5.0\n",
        "!apt-get install libgeos-dev\n",
        "!pip install https://github.com/matplotlib/basemap/archive/master.zip"
      ],
      "execution_count": 0,
      "outputs": []
    },
    {
      "cell_type": "code",
      "metadata": {
        "id": "GG703TELMCZz",
        "colab_type": "code",
        "colab": {}
      },
      "source": [
        "pip install pyproj==1.9.6"
      ],
      "execution_count": 0,
      "outputs": []
    },
    {
      "cell_type": "code",
      "metadata": {
        "id": "Y67pOXY_MVav",
        "colab_type": "code",
        "colab": {}
      },
      "source": [
        "!apt install proj-bin libproj-dev libgeos-dev"
      ],
      "execution_count": 0,
      "outputs": []
    },
    {
      "cell_type": "code",
      "metadata": {
        "id": "AjJwrMEqMVfA",
        "colab_type": "code",
        "colab": {}
      },
      "source": [
        "!pip install https://github.com/matplotlib/basemap/archive/v1.1.0.tar.gz"
      ],
      "execution_count": 0,
      "outputs": []
    },
    {
      "cell_type": "code",
      "metadata": {
        "id": "XCwiPbfpMViw",
        "colab_type": "code",
        "colab": {}
      },
      "source": [
        "from mpl_toolkits.basemap import Basemap"
      ],
      "execution_count": 0,
      "outputs": []
    },
    {
      "cell_type": "code",
      "metadata": {
        "id": "5152jLqyDiNh",
        "colab_type": "code",
        "colab": {}
      },
      "source": [
        "import matplotlib.pyplot as plt\n",
        "from IPython.display import Image\n",
        "Image(filename='/content/download.png', width='80%')"
      ],
      "execution_count": 0,
      "outputs": []
    },
    {
      "cell_type": "code",
      "metadata": {
        "id": "oXc_CMmcGYPW",
        "colab_type": "code",
        "colab": {}
      },
      "source": [
        "import mpl_toolkits\n",
        "mpl_toolkits.__path__.append('/usr/lib/python2.7/dist-packages/mpl_toolkits/')\n",
        "from mpl_toolkits.basemap import Basemap"
      ],
      "execution_count": 0,
      "outputs": []
    },
    {
      "cell_type": "code",
      "metadata": {
        "id": "iq6-qFVNGYSl",
        "colab_type": "code",
        "colab": {}
      },
      "source": [
        ""
      ],
      "execution_count": 0,
      "outputs": []
    },
    {
      "cell_type": "code",
      "metadata": {
        "id": "ICL8h7LoGYWF",
        "colab_type": "code",
        "colab": {}
      },
      "source": [
        "!pip install -U git+https://github.com/matplotlib/basemap.git"
      ],
      "execution_count": 0,
      "outputs": []
    },
    {
      "cell_type": "code",
      "metadata": {
        "id": "y-5wGA2uGYcO",
        "colab_type": "code",
        "colab": {}
      },
      "source": [
        "%matplotlib inline\n",
        "import numpy as np\n",
        "import matplotlib.pyplot as plt\n",
        "from mpl_toolkits.basemap import Basemap"
      ],
      "execution_count": 0,
      "outputs": []
    },
    {
      "cell_type": "code",
      "metadata": {
        "id": "Nu67ru9XGYf3",
        "colab_type": "code",
        "colab": {}
      },
      "source": [
        "covid_19_data = pd.read_csv('/content/covid_19_data.csv')\n",
        "covid_19_data['ObservationDate'] = pd.to_datetime(covid_19_data['ObservationDate'])\n",
        "covid_19_data = covid_19_data.sort_values('ObservationDate', ascending=True)\n",
        "print('Shape:', covid_19_data.shape)\n",
        "print('Date min:', np.min(covid_19_data['ObservationDate']), 'Date max:', np.max(covid_19_data['ObservationDate']))\n",
        "# replace NaN Provinces with string\n",
        "covid_19_data['Province/State'] = covid_19_data['Province/State'].fillna('No_Province')\n",
        "covid_19_data.tail()"
      ],
      "execution_count": 0,
      "outputs": []
    },
    {
      "cell_type": "markdown",
      "metadata": {
        "id": "8VLNBqz-P98w",
        "colab_type": "text"
      },
      "source": [
        "## Brief Data Prep and Exploration"
      ]
    },
    {
      "cell_type": "code",
      "metadata": {
        "id": "dHkxubnkGYjA",
        "colab_type": "code",
        "colab": {}
      },
      "source": [
        "# how many NaNs?\n",
        "count_nan = len(covid_19_data) - covid_19_data.count()\n",
        "count_nan"
      ],
      "execution_count": 0,
      "outputs": []
    },
    {
      "cell_type": "code",
      "metadata": {
        "id": "qKi9Gz4NGYpV",
        "colab_type": "code",
        "colab": {}
      },
      "source": [
        "# how many countries do we have?\n",
        "countries =list(set(covid_19_data['Country/Region']))\n",
        "print('Unique Country/Regio found:', str(len(countries)))\n",
        "countries"
      ],
      "execution_count": 0,
      "outputs": []
    },
    {
      "cell_type": "code",
      "metadata": {
        "id": "673QwWTmGYvs",
        "colab_type": "code",
        "colab": {}
      },
      "source": [
        "# how many province/states do we have?\n",
        "zones =list((set(covid_19_data['Province/State'])))\n",
        "print('Unique Province/State found:', str(len(zones)))"
      ],
      "execution_count": 0,
      "outputs": []
    },
    {
      "cell_type": "markdown",
      "metadata": {
        "id": "gKG6ud6rQTiY",
        "colab_type": "text"
      },
      "source": [
        "## Use openstreetmap Rest API to get lat/lon for each country"
      ]
    },
    {
      "cell_type": "code",
      "metadata": {
        "id": "wZru3Y6qGYtd",
        "colab_type": "code",
        "colab": {}
      },
      "source": [
        "def get_lat_lon(zone, \n",
        "                output_as = 'center'):\n",
        "    # thanks openstreetmap! \n",
        "    # create url\n",
        "    url = '{0}{1}{2}'.format('http://nominatim.openstreetmap.org/search?q=',\n",
        "                             zone,\n",
        "                             '&format=json&polygon=0')\n",
        "    # send out request\n",
        "    response = requests.get(url).json()[0]\n",
        "\n",
        "    # parse response to list\n",
        "    if output_as == 'boundingbox':\n",
        "        lst = response[output_as]\n",
        "        output = [float(i) for i in lst]\n",
        "    if output_as == 'center':\n",
        "        lst = [response.get(key) for key in ['lon','lat']]\n",
        "        output = [float(i) for i in lst]\n",
        "        \n",
        "    return output"
      ],
      "execution_count": 0,
      "outputs": []
    },
    {
      "cell_type": "code",
      "metadata": {
        "id": "1Wu5yiNjUfum",
        "colab_type": "code",
        "colab": {}
      },
      "source": [
        "get_lat_lon('India')"
      ],
      "execution_count": 0,
      "outputs": []
    },
    {
      "cell_type": "code",
      "metadata": {
        "id": "oxCCB5pSQXt7",
        "colab_type": "code",
        "colab": {}
      },
      "source": [
        "geo_centers_lon = []\n",
        "geo_centers_lat = []\n",
        "total_ctry = len(countries)\n",
        "counter_ = 0\n",
        "for ctry in countries:\n",
        "    if counter_ % 10 == 0: print(total_ctry - counter_)\n",
        "    time.sleep(0.2)\n",
        "    centroid = [None, None]\n",
        "    try:\n",
        "        centroid = get_lat_lon(ctry, output_as='center')\n",
        "\n",
        "    except:\n",
        "        print('Could not find:', ctry)\n",
        "        \n",
        "    geo_centers_lon.append(centroid[0])\n",
        "    geo_centers_lat.append(centroid[1])\n",
        "        \n",
        "     \n",
        "    counter_ += 1"
      ],
      "execution_count": 0,
      "outputs": []
    },
    {
      "cell_type": "code",
      "metadata": {
        "id": "xGDgr7iWQX0I",
        "colab_type": "code",
        "colab": {}
      },
      "source": [
        "# Add geos back to data frame\n",
        "full_lats = []\n",
        "full_lons = []\n",
        "for i, r in covid_19_data.iterrows():\n",
        "    country = r['Country/Region']\n",
        "    index_list = countries.index(country)\n",
        "    full_lats.append(geo_centers_lat[index_list])\n",
        "    full_lons.append(geo_centers_lon[index_list])\n",
        "     \n",
        "# add to data frame\n",
        "covid_19_data['Longitude'] = full_lons\n",
        "covid_19_data['Latitude'] = full_lats\n",
        "covid_19_data.head(10)"
      ],
      "execution_count": 0,
      "outputs": []
    },
    {
      "cell_type": "code",
      "metadata": {
        "id": "InqImPELQX-z",
        "colab_type": "code",
        "colab": {}
      },
      "source": [
        "covid_19_data[covid_19_data['Province/State'] == 'Shanghai']"
      ],
      "execution_count": 0,
      "outputs": []
    },
    {
      "cell_type": "markdown",
      "metadata": {
        "id": "Yk2jjeHzQzdE",
        "colab_type": "text"
      },
      "source": [
        "## Plot Infection Counts by Country using Basemap\n",
        "You may need to install Basemap on your machine:\n",
        "\n",
        "https://matplotlib.org/basemap/users/installing.html"
      ]
    },
    {
      "cell_type": "code",
      "metadata": {
        "id": "7UEAIuitQYEr",
        "colab_type": "code",
        "colab": {}
      },
      "source": [
        "def plot_world_map(virus_data, date, save_to_file_name = ''):\n",
        "    # Set the dimension of the figure\n",
        "    #plt.figure(figsize=(16, 8))\n",
        "    # Set the dimension of the figure\n",
        "    my_dpi=96\n",
        "    plt.figure(figsize=(2600/my_dpi, 1800/my_dpi), dpi=my_dpi)\n",
        "\n",
        "    # Make the background map\n",
        "    m=Basemap(llcrnrlon=-180, llcrnrlat=-65,urcrnrlon=180,urcrnrlat=80)\n",
        "    m.drawmapboundary(fill_color='#A6CAE0', linewidth=0)\n",
        "    m.fillcontinents(color='grey', alpha=0.3)\n",
        "    m.drawcoastlines(linewidth=0.1, color=\"white\")\n",
        "    \n",
        "    total_cases = np.sum(virus_data['Confirmed'])\n",
        "\n",
        "    # Add a point per position\n",
        "    m.scatter(virus_data['Longitude'], \n",
        "              virus_data['Latitude'], \n",
        "              s = virus_data['Confirmed'] * 8, # play around with the size or use np.log if you dont like the big circles\n",
        "              alpha=0.4, \n",
        "              c=virus_data['labels_enc'], \n",
        "              cmap=\"Set1\")\n",
        "\n",
        "    plt.title(str(date) + ' Confirmed Covid-19 Cases: ' + str(int(total_cases)) + '\\n(circles not to scale)', fontsize=50)\n",
        "    \n",
        "    if save_to_file_name != '':\n",
        "        plt.savefig(save_to_file_name)\n",
        "        \n",
        "    plt.show()\n",
        "    \n",
        "    \n"
      ],
      "execution_count": 0,
      "outputs": []
    },
    {
      "cell_type": "code",
      "metadata": {
        "id": "_0qCWYGMQX8w",
        "colab_type": "code",
        "colab": {}
      },
      "source": [
        "# Create color map\n",
        "# prepare a color for each point depending on the continent.\n",
        "covid_19_data['labels_enc'] = pd.factorize(covid_19_data['Country/Region'])[0]\n",
        "covid_19_data['labels_enc']"
      ],
      "execution_count": 0,
      "outputs": []
    },
    {
      "cell_type": "code",
      "metadata": {
        "id": "AI4P063DQX7A",
        "colab_type": "code",
        "colab": {}
      },
      "source": [
        "date = '2020-03-20' \n",
        "\n",
        "virus_up_to_today = covid_19_data[covid_19_data['ObservationDate'] <= date]\n",
        "\n",
        "# simplify data set\n",
        "virus_up_to_today = virus_up_to_today[['Country/Region','Province/State', 'labels_enc', 'Confirmed',\n",
        "                     'Deaths', 'Recovered',\n",
        "                     'Longitude', 'Latitude']]\n",
        "\n",
        "\n",
        "# get totals by province then by country as these are cumulative values by province first then by country and not all countries have provinces\n",
        "\n",
        "# group by country and sum/mean values\n",
        "virus_up_to_today=virus_up_to_today.groupby(['Country/Region', 'Province/State', 'labels_enc']).agg({'Confirmed':'last', \n",
        "                           'Deaths':'last',\n",
        "                           'Recovered':'last',\n",
        "                           'Longitude':'mean',\n",
        "                          'Latitude':'mean'}).reset_index()\n",
        "\n",
        "\n",
        "\n",
        "# group by country and sum/mean values\n",
        "virus_up_to_today=virus_up_to_today.groupby(['Country/Region', 'labels_enc']).agg({'Confirmed':'sum', \n",
        "                           'Deaths':'sum',\n",
        "                           'Recovered':'sum',\n",
        "                           'Longitude':'mean',\n",
        "                          'Latitude':'mean'}).reset_index()\n",
        "\n",
        "# map out confirmed cases\n",
        "plot_world_map(virus_up_to_today, str(date)[0:10])"
      ],
      "execution_count": 0,
      "outputs": []
    },
    {
      "cell_type": "code",
      "metadata": {
        "id": "G4TGLgnYQX4w",
        "colab_type": "code",
        "colab": {}
      },
      "source": [
        "# build time lapse with accumulator count by country\n",
        "dates = sorted(list(set(covid_19_data['ObservationDate'])))\n",
        "dates"
      ],
      "execution_count": 0,
      "outputs": []
    },
    {
      "cell_type": "markdown",
      "metadata": {
        "id": "hcKk8VoTZPAJ",
        "colab_type": "text"
      },
      "source": [
        "## Animation"
      ]
    },
    {
      "cell_type": "code",
      "metadata": {
        "id": "MmKG9a1IZRPK",
        "colab_type": "code",
        "colab": {}
      },
      "source": [
        ""
      ],
      "execution_count": 0,
      "outputs": []
    },
    {
      "cell_type": "code",
      "metadata": {
        "id": "FiDxfCvPQXyA",
        "colab_type": "code",
        "colab": {}
      },
      "source": [
        "image_file_name_counter = 0\n",
        "for date in dates:\n",
        "    virus_up_to_today = covid_19_data[covid_19_data['ObservationDate'] <= date]\n",
        "    \n",
        "    # simplify data set\n",
        "    virus_up_to_today = virus_up_to_today[['Country/Region','Province/State', 'labels_enc', 'Confirmed',\n",
        "                         'Deaths', 'Recovered',\n",
        "                         'Longitude', 'Latitude']]\n",
        "\n",
        "\n",
        "    # get totals by province then by country as these are cumulative values by province first then by country and not all countries have provinces\n",
        "\n",
        "    # group by country and sum/mean values\n",
        "    virus_up_to_today=virus_up_to_today.groupby(['Country/Region', 'Province/State', 'labels_enc']).agg({'Confirmed':'last', \n",
        "                               'Deaths':'last',\n",
        "                               'Recovered':'last',\n",
        "                               'Longitude':'mean',\n",
        "                              'Latitude':'mean'}).reset_index()\n",
        "\n",
        "\n",
        "\n",
        "    # group by country and sum/mean values\n",
        "    virus_up_to_today=virus_up_to_today.groupby(['Country/Region', 'labels_enc']).agg({'Confirmed':'sum', \n",
        "                               'Deaths':'sum',\n",
        "                               'Recovered':'sum',\n",
        "                               'Longitude':'mean',\n",
        "                              'Latitude':'mean'}).reset_index()\n",
        "     \n",
        "    # map out confirmed cases\n",
        "    file_to_save_name = '/content/anim_' + str(image_file_name_counter) + '.png'\n",
        "    plot_world_map(virus_up_to_today, str(date)[0:10], file_to_save_name)\n",
        "    \n",
        "  \n",
        "    image_file_name_counter += 1\n",
        "    \n",
        "    "
      ],
      "execution_count": 0,
      "outputs": []
    },
    {
      "cell_type": "markdown",
      "metadata": {
        "id": "EZJDqGHQRkFo",
        "colab_type": "text"
      },
      "source": [
        "Animation\n",
        "You may need to install FFMPEG on your machine: https://github.com/adaptlearning/adapt_authoring/wiki/Installing-FFmpeg\n",
        "\n",
        "To make a video out of a series of image, use FFMPEG\n",
        "\n",
        "If you need help installing FFMPEG:\n",
        "\n",
        "https://github.com/adaptlearning/adapt_authoring/wiki/Installing-FFmpeg\n",
        "\n",
        "In a command/terminal window in the same folder as your images, run:\n",
        "\n",
        "$ffmpeg -framerate 10 -i \"anim_%d.png\" -pix_fmt yuv420p out.mp4"
      ]
    },
    {
      "cell_type": "code",
      "metadata": {
        "id": "MGdvrudHbhPL",
        "colab_type": "code",
        "colab": {}
      },
      "source": [
        "!pip install FFmpeg"
      ],
      "execution_count": 0,
      "outputs": []
    },
    {
      "cell_type": "code",
      "metadata": {
        "id": "1HzHkQ9qGYmm",
        "colab_type": "code",
        "colab": {}
      },
      "source": [
        "pwd"
      ],
      "execution_count": 0,
      "outputs": []
    },
    {
      "cell_type": "code",
      "metadata": {
        "id": "7ZNI2taWcD7S",
        "colab_type": "code",
        "colab": {}
      },
      "source": [
        "!ffmpeg -framerate 10 -i \"anim_%d.png\" -pix_fmt yuv420p out.mp4"
      ],
      "execution_count": 0,
      "outputs": []
    }
  ]
}